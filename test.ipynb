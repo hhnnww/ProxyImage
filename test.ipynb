{
 "cells": [
  {
   "cell_type": "code",
   "execution_count": 6,
   "metadata": {
    "collapsed": true,
    "ExecuteTime": {
     "end_time": "2023-05-27T08:16:46.150963800Z",
     "start_time": "2023-05-27T08:16:46.145624200Z"
    }
   },
   "outputs": [
    {
     "name": "stdout",
     "output_type": "stream",
     "text": [
      "['https://elements-cover-images-0.imgix.net/8e7d5383-df3a-4cff-a0ec-a72c84f1352e?auto=compress%2Cformat&fit=max&w=1370&s=c6df225180679abd2cbd6fc5e6de7fca']\n"
     ]
    }
   ],
   "source": [
    "import re\n",
    "\n",
    "query_path = r'path=https://elements-cover-images-0.imgix.net/8e7d5383-df3a-4cff-a0ec-a72c84f1352e?auto=compress%2Cformat&fit=max&w=1370&s=c6df225180679abd2cbd6fc5e6de7fca'\n",
    "\n",
    "path = re.findall(\n",
    "    r'path=(.*)', query_path\n",
    ")\n",
    "\n",
    "print(path)"
   ]
  }
 ],
 "metadata": {
  "kernelspec": {
   "display_name": "Python 3",
   "language": "python",
   "name": "python3"
  },
  "language_info": {
   "codemirror_mode": {
    "name": "ipython",
    "version": 2
   },
   "file_extension": ".py",
   "mimetype": "text/x-python",
   "name": "python",
   "nbconvert_exporter": "python",
   "pygments_lexer": "ipython2",
   "version": "2.7.6"
  }
 },
 "nbformat": 4,
 "nbformat_minor": 0
}
